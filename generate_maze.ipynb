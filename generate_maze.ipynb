{
 "cells": [
  {
   "cell_type": "code",
   "execution_count": 1,
   "metadata": {
    "collapsed": false
   },
   "outputs": [],
   "source": [
    "%reload_ext autoreload\n",
    "%autoreload 2\n",
    "from generate_maze import generate_maze, display_maze_and_path, display_pil_image\n",
    "from PIL import Image\n",
    "import numpy as np\n",
    "png_formatter = get_ipython().display_formatter.formatters['image/png']\n",
    "dpi = png_formatter.for_type(Image.Image, display_pil_image)"
   ]
  },
  {
   "cell_type": "code",
   "execution_count": 2,
   "metadata": {
    "collapsed": true
   },
   "outputs": [],
   "source": [
    "def solve_maze(maze, position, end):\n",
    "    if np.all(position == end):\n",
    "        return [end]\n",
    "\n",
    "    r, c = position\n",
    "\n",
    "    if end[1] > c:\n",
    "        a = solve_maze(maze, (r, c + 1), end)\n",
    "    elif end[1] < c:\n",
    "        a = solve_maze(maze, (r, c - 1), end)\n",
    "    elif end[0] > r:\n",
    "        a = solve_maze(maze, (r + 1, c), end)\n",
    "    elif end[0] < r:\n",
    "        a = solve_maze(maze, (r - 1, c), end)\n",
    "    if a:\n",
    "        return [(r, c)] + a"
   ]
  },
  {
   "cell_type": "code",
   "execution_count": 3,
   "metadata": {
    "collapsed": false
   },
   "outputs": [
    {
     "data": {
      "image/png": "[encoded data removed]",
      "text/plain": [
       "<PIL.Image.Image image mode=RGB size=500x250 at 0x7F23CC22A6C8>"
      ]
     },
     "execution_count": 3,
     "metadata": {},
     "output_type": "execute_result"
    }
   ],
   "source": [
    "maze, start, end = generate_maze(40, 20)\n",
    "path = solve_maze(maze, start, end)\n",
    "if not path:\n",
    "    print \"No Solution Found\"\n",
    "display_maze_and_path(maze, start, end, path)"
   ]
  }
 ],
 "metadata": {
  "kernelspec": {
   "display_name": "Python 2",
   "language": "python",
   "name": "python2"
  },
  "language_info": {
   "codemirror_mode": {
    "name": "ipython",
    "version": 2
   },
   "file_extension": ".py",
   "mimetype": "text/x-python",
   "name": "python",
   "nbconvert_exporter": "python",
   "pygments_lexer": "ipython2",
   "version": "2.7.11"
  }
 },
 "nbformat": 4,
 "nbformat_minor": 0
}
